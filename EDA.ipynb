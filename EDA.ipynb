{
 "cells": [
  {
   "cell_type": "code",
   "execution_count": 2,
   "metadata": {},
   "outputs": [],
   "source": [
    "import pandas as pd"
   ]
  },
  {
   "cell_type": "code",
   "execution_count": 7,
   "metadata": {},
   "outputs": [],
   "source": [
    "df_customers=pd.read_csv('brazilian-ecommerce/olist_customers_dataset.csv')\n",
    "df_locations=pd.read_csv('brazilian-ecommerce/olist_geolocation_dataset.csv')\n",
    "df_items=pd.read_csv('brazilian-ecommerce/olist_order_items_dataset.csv')\n",
    "df_payments=pd.read_csv('brazilian-ecommerce/olist_order_payments_dataset.csv')\n",
    "df_reviews=pd.read_csv('brazilian-ecommerce/olist_order_reviews_dataset.csv')\n",
    "df_orders=pd.read_csv('brazilian-ecommerce/olist_orders_dataset.csv')\n",
    "df_products=pd.read_csv('brazilian-ecommerce/olist_products_dataset.csv')\n",
    "df_sellers=pd.read_csv('brazilian-ecommerce/olist_sellers_dataset.csv')\n",
    "df_cats=pd.read_csv('brazilian-ecommerce/product_category_name_translation.csv')\n",
    "\n",
    "df_products=df_products.merge(df_cats).drop(columns=['product_category_name'])"
   ]
  },
  {
   "cell_type": "code",
   "execution_count": 8,
   "metadata": {},
   "outputs": [],
   "source": [
    "df_customers.to_parquet('df_customers.parquet')\n",
    "df_locations.to_parquet('df_locations.parquet')\n",
    "df_items.to_parquet('df_items.parquet')\n",
    "df_payments.to_parquet('df_payments.parquet')\n",
    "df_reviews.to_parquet('df_reviews.parquet')\n",
    "df_orders.to_parquet('df_orders.parquet')\n",
    "df_products.to_parquet('df_products.parquet')\n",
    "df_sellers.to_parquet('df_sellers.parquet')"
   ]
  },
  {
   "cell_type": "code",
   "execution_count": null,
   "metadata": {},
   "outputs": [],
   "source": []
  },
  {
   "cell_type": "code",
   "execution_count": null,
   "metadata": {},
   "outputs": [],
   "source": []
  }
 ],
 "metadata": {
  "kernelspec": {
   "display_name": "Python 3",
   "language": "python",
   "name": "python3"
  },
  "language_info": {
   "codemirror_mode": {
    "name": "ipython",
    "version": 3
   },
   "file_extension": ".py",
   "mimetype": "text/x-python",
   "name": "python",
   "nbconvert_exporter": "python",
   "pygments_lexer": "ipython3",
   "version": "3.7.6"
  }
 },
 "nbformat": 4,
 "nbformat_minor": 4
}
